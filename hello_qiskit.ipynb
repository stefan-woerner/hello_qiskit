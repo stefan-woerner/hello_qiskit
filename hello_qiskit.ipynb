{
 "cells": [
  {
   "cell_type": "code",
   "execution_count": null,
   "metadata": {
    "collapsed": true
   },
   "outputs": [],
   "source": [
    "from qiskit import QuantumCircuit, ClassicalRegister, QuantumRegister\n",
    "from qiskit.tools.visualization import plot_histogram, circuit_drawer, matplotlib_circuit_drawer\n",
    "from qiskit import available_backends, execute, register\n",
    "import numpy as np\n",
    "import matplotlib.pyplot as plt\n",
    "%matplotlib inline\n",
    "\n",
    "# define function to draw circuits\n",
    "# drawer = lambda qc: circuit_drawer(qc, basis='u1,u2,u3,id,cx,h,x,ry')\n",
    "drawer = lambda qc: matplotlib_circuit_drawer(qc, basis='u1,u2,u3,id,cx,h,x,ry')\n",
    "\n",
    "import warnings\n",
    "warnings.filterwarnings(\"ignore\", category=DeprecationWarning)"
   ]
  },
  {
   "cell_type": "markdown",
   "metadata": {},
   "source": [
    "# Available local and remote backends"
   ]
  },
  {
   "cell_type": "code",
   "execution_count": null,
   "metadata": {},
   "outputs": [],
   "source": [
    "# set your API Token.\n",
    "# you can get it from https://quantumexperience.ng.bluemix.net/qx/account,\n",
    "# looking for \"Personal Access Token\" section.\n",
    "QX_TOKEN = \"put your API token here\"\n",
    "QX_URL = \"https://quantumexperience.ng.bluemix.net/api\"\n",
    "\n",
    "# import ibmq_api_token\n",
    "# QX_TOKEN = ibmq_api_token.QX_TOKEN\n",
    "\n",
    "# authenticate with the IBM Q API in order to use online devices.\n",
    "# you need the API Token and the QX URL.\n",
    "try:\n",
    "    register(QX_TOKEN, QX_URL)\n",
    "    print('successfully registered')\n",
    "except:\n",
    "    print('could not register, probably API key missing')"
   ]
  },
  {
   "cell_type": "code",
   "execution_count": null,
   "metadata": {},
   "outputs": [],
   "source": [
    "# See a list of available local simulators\n",
    "print('local backends: ', available_backends({'local': True}))\n",
    "print('remote backends:', available_backends({'local': False}))"
   ]
  },
  {
   "cell_type": "code",
   "execution_count": null,
   "metadata": {
    "collapsed": true
   },
   "outputs": [],
   "source": [
    "# select a backend for the tutorial\n",
    "# backend = 'local_qasm_simulator'\n",
    "# backend = 'ibmq_qasm_simulator'\n",
    "backend = 'ibmqx5'"
   ]
  },
  {
   "cell_type": "markdown",
   "metadata": {},
   "source": [
    "# Some basic gates"
   ]
  },
  {
   "cell_type": "markdown",
   "metadata": {},
   "source": [
    "## X gate\n",
    "\n",
    "X gate acts like\n",
    "$\\left(\\begin{array}{cc} 0 & 1 \\\\ 1 & 0 \\end{array} \\right)$.\n",
    "Thus, it flips $|0\\rangle$ to $|1\\rangle$ and vice versa.\n",
    "Multi-qubit results are read: $[q_{n-1}, ..., q_1, q_0]$.\n",
    "<br>\n",
    "<br>\n",
    "<b>Exercise:</b><br>\n",
    "Try to create a circuit that generates the state |10>."
   ]
  },
  {
   "cell_type": "code",
   "execution_count": null,
   "metadata": {},
   "outputs": [],
   "source": [
    "# create a quantum and classical registers\n",
    "q = QuantumRegister(2)\n",
    "c = ClassicalRegister(2)\n",
    "\n",
    "# create a quantum circuit\n",
    "qc = QuantumCircuit(q, c)\n",
    "\n",
    "# add a X gate on qubit, flipping it from |0> to |1>\n",
    "qc.x(q[0])\n",
    "# qc.x(q[1])\n",
    "\n",
    "# measure qubit\n",
    "qc.measure(q, c);\n",
    "\n",
    "# plot the circuit\n",
    "drawer(qc)\n",
    "\n",
    "# compile and run the quantum circuit on the local simulator\n",
    "number_of_shots = 1\n",
    "job_sim = execute(qc, backend, shots=number_of_shots)\n",
    "sim_results = job_sim.result()\n",
    "print(\"simulation: \", sim_results)\n",
    "sim_results.get_counts()"
   ]
  },
  {
   "cell_type": "markdown",
   "metadata": {},
   "source": [
    "## H gate\n",
    "\n",
    "H gate acts like\n",
    "$\\frac{1}{\\sqrt{2}}\\left(\\begin{array}{cc} 1 & 1 \\\\ 1 & -1 \\end{array} \\right)$.\n",
    "Thus, it maps $|0\\rangle$ to $\\frac{1}{\\sqrt{2}}(|0\\rangle + |1\\rangle)$, i.e., into the equal super-position state.\n",
    "<br>\n",
    "<br>\n",
    "<b>Exercise:</b><br>\n",
    "Repeat experiment a couple of times.<br>\n",
    "How does the result behave?<br>\n",
    "What happens if you increase the number of shots?"
   ]
  },
  {
   "cell_type": "code",
   "execution_count": null,
   "metadata": {},
   "outputs": [],
   "source": [
    "# create a quantum and classical registers\n",
    "q = QuantumRegister(1)\n",
    "c = ClassicalRegister(1)\n",
    "\n",
    "# create a quantum circuit\n",
    "qc = QuantumCircuit(q, c)\n",
    "\n",
    "# add a H gate on qubit 0, flipping the qubit from |0> to |1>\n",
    "qc.h(q[0])\n",
    "\n",
    "# measure qubit\n",
    "qc.measure(q, c)\n",
    "\n",
    "# plot the circuit\n",
    "drawer(qc)\n",
    "\n",
    "# compile and run the quantum circuit on the local simulator\n",
    "number_of_shots = 1\n",
    "job_sim = execute(qc, backend, shots=number_of_shots)\n",
    "sim_results = job_sim.result()\n",
    "print(\"simulation: \", sim_results)\n",
    "sim_results.get_counts()\n",
    "\n",
    "# TODO: add histogram"
   ]
  },
  {
   "cell_type": "markdown",
   "metadata": {},
   "source": [
    "## Y rotation\n",
    "\n",
    "A Y-rotation of angle $\\theta$, denoted $R_y(\\theta)$, acts like\n",
    "$\\left(\\begin{array}{cc} \\cos(\\theta/2) & -\\sin(\\theta/2) \\\\ \\sin(\\theta/2) & \\cos(\\theta/2) \\end{array} \\right)$.\n",
    "It rotates the state aronud hte Y-axis of the Bloch sphere.\n",
    "When applied to $\\|0\\rangle$, the probability of measuring |1> equals $\\sin^2(\\theta/2)$.\n",
    "<br>\n",
    "<br>\n",
    "\n",
    "\n",
    "<b>Exercise:</b><br>\n",
    "Find $\\theta$ such that $\\mathbb{P}[|1\\rangle] = 75\\%$ and verify it by executing the circuit."
   ]
  },
  {
   "cell_type": "code",
   "execution_count": null,
   "metadata": {},
   "outputs": [],
   "source": [
    "# create a quantum and classical registers\n",
    "q = QuantumRegister(1)\n",
    "c = ClassicalRegister(1)\n",
    "\n",
    "# create a quantum circuit\n",
    "qc = QuantumCircuit(q, c)\n",
    "\n",
    "# add a X gate on qubit 0, flipping the qubit from |0> to |1>\n",
    "theta = np.pi/2\n",
    "qc.ry(theta, q[0])\n",
    "\n",
    "# measure qubit\n",
    "qc.measure(q, c)\n",
    "\n",
    "# plot the circuit\n",
    "drawer(qc)\n",
    "\n",
    "# compile and run the quantum circuit on the local simulator\n",
    "number_of_shots = 1024\n",
    "job_sim = execute(qc, backend, shots=number_of_shots)\n",
    "sim_results = job_sim.result()\n",
    "print(\"simulation: \", sim_results)\n",
    "sim_results.get_counts()\n",
    "\n",
    "# add histogram"
   ]
  },
  {
   "cell_type": "markdown",
   "metadata": {},
   "source": [
    "## CX gate\n",
    "\n",
    "A controlled X (CX) gate acts on two qubit like\n",
    "$\\left(\\begin{array}{cccc} \n",
    "1 & 0 & 0 & 0 \\\\ \n",
    "0 & 1 & 0 & 0 \\\\\n",
    "0 & 0 & 0 & 1 \\\\\n",
    "0 & 0 & 1 & 0 \\end{array} \\right)$.\n",
    "<br>\n",
    "Thus, it flips the second qubit if the first qubit is 1 and otherwise has no effect.\n",
    "<br>\n",
    "<br>\n",
    "<b>Exercise:</b><br>\n",
    "With X gates you can set the initial state of the qubits.\n",
    "<br>\n",
    "See what happens when applying the CX to |00>, |01>, |10>, |11>."
   ]
  },
  {
   "cell_type": "code",
   "execution_count": null,
   "metadata": {},
   "outputs": [],
   "source": [
    "# create a quantum and classical registers\n",
    "q = QuantumRegister(2)\n",
    "c = ClassicalRegister(2)\n",
    "\n",
    "# create a quantum circuit\n",
    "qc = QuantumCircuit(q, c)\n",
    "\n",
    "# set initial state\n",
    "qc.x(q[0])  # flips q[0] from |0> to |1>\n",
    "# qc.x(q[1])  # flips q[1] from |0> to |1>\n",
    "\n",
    "# apply CX gate with control q[0] and target q[1]\n",
    "qc.cx(q[0], q[1])\n",
    "\n",
    "# measure qubit\n",
    "qc.measure(q, c)\n",
    "\n",
    "# plot the circuit\n",
    "drawer(qc)\n",
    "\n",
    "# compile and run the quantum circuit on the local simulator\n",
    "number_of_shots = 1\n",
    "job_sim = execute(qc, backend, shots=number_of_shots)\n",
    "sim_results = job_sim.result()\n",
    "print(\"simulation: \", sim_results)\n",
    "sim_results.get_counts()"
   ]
  },
  {
   "cell_type": "markdown",
   "metadata": {},
   "source": [
    "# The Bell state\n",
    "\n",
    "A Bell state is a fully entangled state of two qubits that has no classical counter part.\n",
    "<br>\n",
    "It is given by: $$\\frac{1}{\\sqrt{2}}(|00\\rangle + |11\\rangle)$$\n",
    "\n",
    "It can be achieved by applying a H gate to to a first qubit and then a CX gate controlled by the first qubit with the second qubit as target."
   ]
  },
  {
   "cell_type": "code",
   "execution_count": null,
   "metadata": {},
   "outputs": [],
   "source": [
    "# create a quantum and classical registers\n",
    "q = QuantumRegister(2)\n",
    "c = ClassicalRegister(2)\n",
    "\n",
    "# create a quantum circuit\n",
    "qc = QuantumCircuit(q, c)\n",
    "\n",
    "# add a H gate on qubit 0, putting this qubit in superposition\n",
    "qc.h(q[0])\n",
    "\n",
    "# add a CX (CNOT) gate on control qubit 0 and target qubit 1\n",
    "qc.cx(q[0], q[1])\n",
    "\n",
    "# add a measure gate to see the state.\n",
    "qc.measure(q, c)\n",
    "\n",
    "# plot the circuit\n",
    "drawer(qc)\n",
    "\n",
    "# compile and run the quantum circuit on the local simulator\n",
    "number_of_shots = 1024\n",
    "job_sim = execute(qc, backend, shots=number_of_shots)\n",
    "sim_results = job_sim.result()\n",
    "print(\"simulation: \", sim_results)\n",
    "sim_results.get_counts()"
   ]
  },
  {
   "cell_type": "code",
   "execution_count": null,
   "metadata": {},
   "outputs": [],
   "source": [
    "# plot the results\n",
    "plot_histogram(sim_results.get_counts())"
   ]
  },
  {
   "cell_type": "markdown",
   "metadata": {},
   "source": [
    "<b>Exercise:</b><br>\n",
    "Prepare the following state: $\\frac{1}{\\sqrt{2}}(|01\\rangle + |10\\rangle)$, using a similar construction as for the Bell state."
   ]
  },
  {
   "cell_type": "code",
   "execution_count": null,
   "metadata": {},
   "outputs": [],
   "source": [
    "q = QuantumRegister(2)\n",
    "c = ClassicalRegister(2)\n",
    "qc = QuantumCircuit(q, c)\n",
    "\n",
    "# Write your circuit here:\n",
    "#\n",
    "#\n",
    "#\n",
    "\n",
    "qc.measure(q, c)\n",
    "\n",
    "drawer(qc)\n",
    "\n",
    "# compile and run the quantum circuit on the local simulator\n",
    "job_sim = execute(qc, backend, shots=1024)\n",
    "sim_results = job_sim.result()\n",
    "print(\"simulation: \", sim_results)\n",
    "sim_results.get_counts()"
   ]
  },
  {
   "cell_type": "code",
   "execution_count": null,
   "metadata": {},
   "outputs": [],
   "source": [
    "# plot the results\n",
    "plot_histogram(sim_results.get_counts())"
   ]
  },
  {
   "cell_type": "code",
   "execution_count": null,
   "metadata": {
    "collapsed": true
   },
   "outputs": [],
   "source": []
  }
 ],
 "metadata": {
  "kernelspec": {
   "display_name": "Python 3",
   "language": "python",
   "name": "python3"
  },
  "language_info": {
   "codemirror_mode": {
    "name": "ipython",
    "version": 3
   },
   "file_extension": ".py",
   "mimetype": "text/x-python",
   "name": "python",
   "nbconvert_exporter": "python",
   "pygments_lexer": "ipython3",
   "version": "3.6.6"
  }
 },
 "nbformat": 4,
 "nbformat_minor": 2
}
